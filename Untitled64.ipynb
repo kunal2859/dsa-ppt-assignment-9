{
 "cells": [
  {
   "cell_type": "code",
   "execution_count": 2,
   "id": "003fc5a4",
   "metadata": {},
   "outputs": [
    {
     "data": {
      "text/plain": [
       "True"
      ]
     },
     "execution_count": 2,
     "metadata": {},
     "output_type": "execute_result"
    }
   ],
   "source": [
    "def isPoweroftwo(n):\n",
    "    if n==1:\n",
    "        return True\n",
    "    elif (n<1 or n%2!=0):\n",
    "        return False\n",
    "    else:\n",
    "        return isPoweroftwo(n//2)\n",
    "    \n",
    "isPoweroftwo(32)"
   ]
  },
  {
   "cell_type": "code",
   "execution_count": 3,
   "id": "4eb43fdb",
   "metadata": {},
   "outputs": [
    {
     "data": {
      "text/plain": [
       "15"
      ]
     },
     "execution_count": 3,
     "metadata": {},
     "output_type": "execute_result"
    }
   ],
   "source": [
    "def sumOfnatural(n):\n",
    "    if n<=1:\n",
    "        return n\n",
    "    return n+sumOfnatural(n-1)\n",
    "    \n",
    "sumOfnatural(5)"
   ]
  },
  {
   "cell_type": "code",
   "execution_count": 4,
   "id": "a6d82964",
   "metadata": {},
   "outputs": [
    {
     "data": {
      "text/plain": [
       "120"
      ]
     },
     "execution_count": 4,
     "metadata": {},
     "output_type": "execute_result"
    }
   ],
   "source": [
    "def fact(n):\n",
    "    if n<=2:\n",
    "        return n\n",
    "    return n*fact(n-1)\n",
    "\n",
    "fact(5)"
   ]
  },
  {
   "cell_type": "code",
   "execution_count": 5,
   "id": "ee81fe8d",
   "metadata": {},
   "outputs": [
    {
     "data": {
      "text/plain": [
       "32"
      ]
     },
     "execution_count": 5,
     "metadata": {},
     "output_type": "execute_result"
    }
   ],
   "source": [
    "def power(n,p):\n",
    "    if p==0:\n",
    "        return 1\n",
    "    return n*power(n,p-1)\n",
    "\n",
    "n=2\n",
    "p=5\n",
    "power(n,p)"
   ]
  },
  {
   "cell_type": "code",
   "execution_count": 7,
   "id": "47213b2a",
   "metadata": {},
   "outputs": [
    {
     "data": {
      "text/plain": [
       "10"
      ]
     },
     "execution_count": 7,
     "metadata": {},
     "output_type": "execute_result"
    }
   ],
   "source": [
    "def nthTerm(n):\n",
    "    if n==1:\n",
    "        return a\n",
    "    \n",
    "a=2\n",
    "d=1\n",
    "nthTerm(5)"
   ]
  },
  {
   "cell_type": "code",
   "execution_count": 11,
   "id": "8fa18737",
   "metadata": {},
   "outputs": [
    {
     "data": {
      "text/plain": [
       "8"
      ]
     },
     "execution_count": 11,
     "metadata": {},
     "output_type": "execute_result"
    }
   ],
   "source": [
    "def maximum(arr,n):\n",
    "    arr=list(arr)\n",
    "    if (n == 1):\n",
    "        return arr[0]\n",
    "    return max(arr[n - 1], maximum(arr, n - 1))\n",
    "\n",
    "arr = {1, 4, 3, -5, -4, 8, 6};\n",
    "n=len(arr)\n",
    "maximum(arr,n)"
   ]
  },
  {
   "cell_type": "code",
   "execution_count": 15,
   "id": "d62c6344",
   "metadata": {},
   "outputs": [
    {
     "data": {
      "text/plain": [
       "6"
      ]
     },
     "execution_count": 15,
     "metadata": {},
     "output_type": "execute_result"
    }
   ],
   "source": [
    "def nthTerm(a,d,n):\n",
    "    if n==1:\n",
    "        return a\n",
    "    return nthTerm(a+d,d,n-1)\n",
    "nthTerm(2,1,5)"
   ]
  },
  {
   "cell_type": "code",
   "execution_count": 12,
   "id": "579cb2ae",
   "metadata": {},
   "outputs": [
    {
     "name": "stdout",
     "output_type": "stream",
     "text": [
      "ABC ACB BAC BCA CAB CBA "
     ]
    }
   ],
   "source": [
    "def permute(s, answer):\n",
    "    if (len(s) == 0):\n",
    "        print(answer, end=\" \")\n",
    "        return\n",
    "\n",
    "    for i in range(len(s)):\n",
    "        ch = s[i]\n",
    "        left_substr = s[0:i]\n",
    "        right_substr = s[i + 1:]\n",
    "        rest = left_substr + right_substr\n",
    "        permute(rest, answer + ch)\n",
    "\n",
    "answer = \"\"\n",
    "s = \"ABC\"\n",
    "permute(s, answer)"
   ]
  },
  {
   "cell_type": "code",
   "execution_count": 13,
   "id": "a7dc6468",
   "metadata": {},
   "outputs": [
    {
     "data": {
      "text/plain": [
       "18"
      ]
     },
     "execution_count": 13,
     "metadata": {},
     "output_type": "execute_result"
    }
   ],
   "source": [
    "def product(arr,n):\n",
    "    arr=list(arr)\n",
    "    if (n == 1):\n",
    "        return arr[0]\n",
    "    return (arr[n - 1]*maximum(arr, n - 1))\n",
    "\n",
    "arr={1,6,3}\n",
    "n=len(arr)\n",
    "product(arr,n)"
   ]
  },
  {
   "cell_type": "code",
   "execution_count": null,
   "id": "d30f50de",
   "metadata": {},
   "outputs": [],
   "source": []
  }
 ],
 "metadata": {
  "kernelspec": {
   "display_name": "Python 3 (ipykernel)",
   "language": "python",
   "name": "python3"
  },
  "language_info": {
   "codemirror_mode": {
    "name": "ipython",
    "version": 3
   },
   "file_extension": ".py",
   "mimetype": "text/x-python",
   "name": "python",
   "nbconvert_exporter": "python",
   "pygments_lexer": "ipython3",
   "version": "3.9.13"
  }
 },
 "nbformat": 4,
 "nbformat_minor": 5
}
